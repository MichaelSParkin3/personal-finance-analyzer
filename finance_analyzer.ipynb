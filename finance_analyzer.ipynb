{
 "cells": [
  {
   "cell_type": "markdown",
   "metadata": {},
   "source": [
    "# Personal Finance Transaction Analyzer\n",
    "\n",
    "## Overview\n",
    "This notebook analyzes personal bank transaction data to categorize expenses and visualize spending patterns. The analysis includes data preprocessing, transaction categorization based on merchant names, and various visualizations to understand financial behavior.\n",
    "\n",
    "## Data Requirements\n",
    "- Input file: `bankstatements.csv`\n",
    "- Expected columns: `name`, `amount`, `mode`, `DrCr`\n",
    "- The analysis categorizes transactions into: Personal, Wives, Parents, Boyfriends, Children, and Other\n",
    "\n",
    "## Analysis Workflow\n",
    "1. Data loading and initial inspection\n",
    "2. Data cleaning and preprocessing\n",
    "3. Transaction categorization\n",
    "4. Exploratory data analysis and visualization"
   ]
  },
  {
   "cell_type": "markdown",
   "metadata": {},
   "source": [
    "## 1. Setup and Imports\n",
    "Import all necessary libraries for data manipulation, analysis, and visualization."
   ]
  },
  {
   "cell_type": "code",
   "execution_count": null,
   "metadata": {},
   "outputs": [],
   "source": [
    "# Core data manipulation and analysis libraries\n",
    "import pandas as pd\n",
    "import numpy as np\n",
    "\n",
    "# Visualization libraries\n",
    "import matplotlib.pyplot as plt"
   ]
  },
  {
   "cell_type": "markdown",
   "metadata": {},
   "source": [
    "## 2. Data Loading and Initial Inspection\n",
    "Load the bank statement data and perform initial exploration to understand the dataset structure and quality."
   ]
  },
  {
   "cell_type": "code",
   "execution_count": null,
   "metadata": {},
   "outputs": [],
   "source": [
    "# Load the bank statement data from CSV file\n",
    "# This file should contain transaction records with columns: name, amount, mode, DrCr\n",
    "df = pd.read_csv('./bankstatements.csv')\n",
    "\n",
    "# Display basic information about the dataset structure\n",
    "# Shows data types, non-null counts, and memory usage\n",
    "df.info()"
   ]
  },
  {
   "cell_type": "code",
   "execution_count": null,
   "metadata": {},
   "outputs": [],
   "source": [
    "# Display the first few rows to understand data format and structure\n",
    "df.head()"
   ]
  },
  {
   "cell_type": "code",
   "execution_count": null,
   "metadata": {},
   "outputs": [],
   "source": [
    "# Generate descriptive statistics for numerical columns\n",
    "# Provides count, mean, std, min, quartiles, and max values\n",
    "df.describe()"
   ]
  },
  {
   "cell_type": "code",
   "execution_count": null,
   "metadata": {},
   "outputs": [],
   "source": [
    "# Display a subset of data (first 5 rows and 5 columns) for detailed inspection\n",
    "df.iloc[0:5, 0:5]"
   ]
  },
  {
   "cell_type": "markdown",
   "metadata": {},
   "source": [
    "## 3. Data Quality Assessment and Cleaning\n",
    "Identify and handle missing values, data type conversions, and text standardization."
   ]
  },
  {
   "cell_type": "code",
   "execution_count": null,
   "metadata": {},
   "outputs": [],
   "source": [
    "# Check for missing values across all columns\n",
    "# This helps identify data quality issues that need to be addressed\n",
    "df.isnull().sum()"
   ]
  },
  {
   "cell_type": "code",
   "execution_count": null,
   "metadata": {},
   "outputs": [],
   "source": [
    "# Fill missing merchant names with \"UNKNOWN\" to maintain data integrity\n",
    "# This prevents issues during categorization and analysis\n",
    "df['name'].fillna('UNKNOWN', inplace=True)"
   ]
  },
  {
   "cell_type": "code",
   "execution_count": null,
   "metadata": {},
   "outputs": [],
   "source": [
    "# Verify that missing values have been handled properly\n",
    "df.isnull().sum()"
   ]
  },
  {
   "cell_type": "code",
   "execution_count": null,
   "metadata": {},
   "outputs": [],
   "source": [
    "# Convert 'amount' column to float data type for numerical operations\n",
    "# Ensures proper mathematical calculations and aggregations\n",
    "df['amount'] = df['amount'].astype(float)\n",
    "\n",
    "# Verify the data type conversion was successful\n",
    "df.info()"
   ]
  },
  {
   "cell_type": "code",
   "execution_count": null,
   "metadata": {},
   "outputs": [],
   "source": [
    "# Display updated data structure after cleaning\n",
    "df.head()"
   ]
  },
  {
   "cell_type": "markdown",
   "metadata": {},
   "source": [
    "## 4. Text Data Standardization\n",
    "Normalize text fields to ensure consistent categorization and analysis."
   ]
  },
  {
   "cell_type": "code",
   "execution_count": null,
   "metadata": {},
   "outputs": [],
   "source": [
    "# Standardize merchant names to lowercase for consistent pattern matching\n",
    "# This ensures case-insensitive categorization\n",
    "df['name'] = df['name'].str.lower()\n",
    "\n",
    "# Remove leading and trailing whitespace from merchant names\n",
    "# Prevents categorization errors due to inconsistent spacing\n",
    "df['name'] = df['name'].str.strip()\n",
    "\n",
    "df.head()"
   ]
  },
  {
   "cell_type": "code",
   "execution_count": null,
   "metadata": {},
   "outputs": [],
   "source": [
    "# Standardize transaction mode to lowercase for consistency\n",
    "df['mode'] = df['mode'].str.lower()\n",
    "df.head()"
   ]
  },
  {
   "cell_type": "code",
   "execution_count": null,
   "metadata": {},
   "outputs": [],
   "source": [
    "# Standardize debit/credit indicator to lowercase\n",
    "df['DrCr'] = df['DrCr'].str.lower()\n",
    "df.head()"
   ]
  },
  {
   "cell_type": "code",
   "execution_count": null,
   "metadata": {},
   "outputs": [],
   "source": [
    "# Display a random sample of cleaned data to verify standardization\n",
    "df.sample(5)"
   ]
  },
  {
   "cell_type": "markdown",
   "metadata": {},
   "source": [
    "## 5. Initial Data Exploration\n",
    "Explore transaction patterns and distributions before categorization."
   ]
  },
  {
   "cell_type": "code",
   "execution_count": null,
   "metadata": {},
   "outputs": [],
   "source": [
    "# Import seaborn for enhanced statistical visualizations\n",
    "import seaborn as sns\n",
    "\n",
    "# Create boxplot to visualize transaction amount distribution by debit/credit type\n",
    "# This helps identify outliers and understand spending vs income patterns\n",
    "sns.boxplot(data=df, x='DrCr', y='amount')\n",
    "plt.title('Transaction Amount Distribution by Type')\n",
    "\n",
    "# Limit y-axis to 95th percentile to better visualize the main distribution\n",
    "# This removes extreme outliers that might skew the visualization\n",
    "plt.ylim(0, df['amount'].quantile(0.95))\n",
    "plt.show()"
   ]
  },
  {
   "cell_type": "code",
   "execution_count": null,
   "metadata": {},
   "outputs": [],
   "source": [
    "# Analyze frequency of unique merchant names to understand transaction patterns\n",
    "# This helps identify the most frequent transaction partners\n",
    "name_counts = df['name'].value_counts()\n",
    "\n",
    "# Display top 10 most frequent merchants for quick analysis\n",
    "print(name_counts.head(10))"
   ]
  },
  {
   "cell_type": "markdown",
   "metadata": {},
   "source": [
    "## 6. Transaction Categorization\n",
    "Categorize transactions based on merchant names using pattern matching to group related expenses."
   ]
  },
  {
   "cell_type": "code",
   "execution_count": null,
   "metadata": {},
   "outputs": [],
   "source": [
    "# Alternative approach using function-based categorization (commented out)\n",
    "# This shows a more traditional approach using a custom function\n",
    "\n",
    "# def categorize_by_name(name):\n",
    "#     if 'abutalah' in name:\n",
    "#         return 'Personal'\n",
    "#     elif 'phonepe' in name or 'nafeesab' in name:\n",
    "#         return 'Wives'\n",
    "#     elif 'sangalli' in name or 'hdfcbank' in name:\n",
    "#         return 'Parents'\n",
    "#     elif 'flipkart' in name or 'dadakhala' in name:\n",
    "#         return 'Boyfriends'\n",
    "#     elif 'ayubraje' in name or 'budesaheb' in name:\n",
    "#         return 'Children'\n",
    "#     else:\n",
    "#         return 'Other'\n",
    "\n",
    "# # Apply categorization\n",
    "# df['category'] = df['name'].apply(categorize_by_name)\n",
    "\n",
    "# # check the distribution of categories\n",
    "# category_counts = df['category'].value_counts()\n",
    "# print(category_counts)"
   ]
  },
  {
   "cell_type": "code",
   "execution_count": null,
   "metadata": {},
   "outputs": [],
   "source": [
    "# Efficient categorization using numpy.select for better performance\n",
    "# This approach is more scalable for large datasets\n",
    "\n",
    "# Define conditions for each category using string pattern matching\n",
    "# Each condition checks if merchant name contains specific keywords\n",
    "conditons = [\n",
    "    df['name'].str.contains('abutalah', case=False, na=False),          # Personal transactions\n",
    "    df['name'].str.contains('phonepe|nafeesab', case=False, na=False),  # Wives-related transactions\n",
    "    df['name'].str.contains('sangalli|hdfcbank', case=False, na=False), # Parents-related transactions\n",
    "    df['name'].str.contains('flipkart|dadakhala', case=False, na=False), # Boyfriends-related transactions\n",
    "    df['name'].str.contains('ayubraje|budesaheb', case=False, na=False)  # Children-related transactions\n",
    "]\n",
    "\n",
    "# Define category labels corresponding to each condition\n",
    "choices = np.array(['Personal', 'Wives', 'Parents', 'Boyfriends', 'Children', 'Other'])\n",
    "\n",
    "# Apply categorization using numpy.select for efficient processing\n",
    "# Transactions not matching any condition are labeled as 'Other'\n",
    "df['category'] = np.select(conditons, choices[:-1], default=choices[-1])\n",
    "\n",
    "# Display the distribution of categories to understand spending patterns\n",
    "category_counts = df['category'].value_counts()\n",
    "print(category_counts)"
   ]
  },
  {
   "cell_type": "code",
   "execution_count": null,
   "metadata": {},
   "outputs": [],
   "source": [
    "# Verify specific pattern matching using word boundaries for precise matching\n",
    "# This ensures 'abutalah' is matched as a complete word, not as part of another word\n",
    "df['name'].str.contains(r'\\babutalah\\b', case=False, na=False).sum()"
   ]
  },
  {
   "cell_type": "markdown",
   "metadata": {},
   "source": [
    "## 7. Financial Analysis by Category\n",
    "Analyze spending patterns and amounts across different transaction categories."
   ]
  },
  {
   "cell_type": "code",
   "execution_count": null,
   "metadata": {},
   "outputs": [],
   "source": [
    "# Calculate total transaction amount per category\n",
    "# This provides insight into which categories represent the highest spending\n",
    "df.groupby('category')['amount'].sum()"
   ]
  },
  {
   "cell_type": "markdown",
   "metadata": {},
   "source": [
    "## 8. Data Visualization and Insights\n",
    "Create various visualizations to understand spending patterns and distributions across categories."
   ]
  },
  {
   "cell_type": "code",
   "execution_count": null,
   "metadata": {},
   "outputs": [],
   "source": [
    "# Create boxplot showing transaction amount distribution by category\n",
    "# Boxplots reveal median, quartiles, and outliers for each category\n",
    "sns.boxplot(data=df, x='category', y='amount')\n",
    "plt.title('Transaction Amount Distribution by Category')\n",
    "plt.xticks(rotation=45)  # Rotate labels for better readability\n",
    "plt.show()"
   ]
  },
  {
   "cell_type": "code",
   "execution_count": null,
   "metadata": {},
   "outputs": [],
   "source": [
    "# Create focused analysis excluding 'Other' category for clearer insights\n",
    "# This removes noise from uncategorized transactions\n",
    "df_filtered = df[df['category'] != 'Other']\n",
    "\n",
    "# Boxplot for categorized transactions only\n",
    "sns.boxplot(data=df_filtered, x='category', y='amount')\n",
    "plt.title('Transaction Amount Distribution by Category (Excluding Other)')\n",
    "plt.xticks(rotation=45)\n",
    "plt.show()"
   ]
  },
  {
   "cell_type": "code",
   "execution_count": null,
   "metadata": {},
   "outputs": [],
   "source": [
    "# Create bar chart showing total spending by category\n",
    "# Bar charts are ideal for comparing total amounts across categories\n",
    "df_filtered = df[df['category'] != 'Other']\n",
    "\n",
    "sns.barplot(data=df_filtered, x='category', y='amount', estimator=np.sum)\n",
    "plt.title('Total Transaction Amount by Category (Excluding Other)')\n",
    "plt.xticks(rotation=45)\n",
    "plt.show()"
   ]
  },
  {
   "cell_type": "code",
   "execution_count": null,
   "metadata": {},
   "outputs": [],
   "source": [
    "# Create line chart for trend analysis of total spending by category\n",
    "# Line charts help visualize relationships and trends between categories\n",
    "df_filtered = df[df['category'] != 'Other']\n",
    "\n",
    "# Aggregate data by category and create line plot\n",
    "category_totals = df_filtered.groupby('category')['amount'].sum().reset_index()\n",
    "sns.lineplot(data=category_totals, x='category', y='amount')\n",
    "plt.title('Total Transaction Amount by Category (Excluding Other)')\n",
    "plt.xticks(rotation=45)\n",
    "plt.show()"
   ]
  },
  {
   "cell_type": "markdown",
   "metadata": {},
   "source": [
    "## Summary\n",
    "\n",
    "This analysis provides comprehensive insights into personal financial transactions through:\n",
    "\n",
    "1. **Data Quality**: Cleaned and standardized transaction data for accurate analysis\n",
    "2. **Categorization**: Automated classification of transactions based on merchant names\n",
    "3. **Visualization**: Multiple chart types to understand spending patterns and distributions\n",
    "4. **Insights**: Clear view of spending across different relationship categories\n",
    "\n",
    "The analysis reveals spending patterns across Personal, Wives, Parents, Boyfriends, and Children categories, enabling better financial planning and budget management."
   ]
  }
 ],
 "metadata": {
  "kernelspec": {
   "display_name": "Python 3",
   "language": "python",
   "name": "python3"
  },
  "language_info": {
   "codemirror_mode": {
    "name": "ipython",
    "version": 3
   },
   "file_extension": ".py",
   "mimetype": "text/x-python",
   "name": "python",
   "nbconvert_exporter": "python",
   "pygments_lexer": "ipython3",
   "version": "3.8.5"
  }
 },
 "nbformat": 4,
 "nbformat_minor": 4
}
