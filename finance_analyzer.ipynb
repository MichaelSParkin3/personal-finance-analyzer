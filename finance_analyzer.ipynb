{
 "cells": [
  {
   "cell_type": "code",
   "execution_count": 58,
   "metadata": {},
   "outputs": [],
   "source": [
    "import pandas as pd; \n",
    "import numpy as np; \n",
    "import matplotlib.pyplot as plt"
   ]
  },
  {
   "cell_type": "code",
   "execution_count": 78,
   "metadata": {},
   "outputs": [],
   "source": [
    "#load the data\n",
    "df = pd.read_csv('./bankstatements.csv')"
   ]
  },
  {
   "cell_type": "code",
   "execution_count": 73,
   "metadata": {},
   "outputs": [
    {
     "name": "stdout",
     "output_type": "stream",
     "text": [
      "<class 'pandas.core.frame.DataFrame'>\n",
      "RangeIndex: 509 entries, 0 to 508\n",
      "Data columns (total 10 columns):\n",
      " #   Column   Non-Null Count  Dtype  \n",
      "---  ------   --------------  -----  \n",
      " 0   date     509 non-null    object \n",
      " 1   DrCr     509 non-null    object \n",
      " 2   amount   509 non-null    float64\n",
      " 3   balance  509 non-null    float64\n",
      " 4   mode     509 non-null    object \n",
      " 5   name     509 non-null    object \n",
      " 6   Day      509 non-null    int64  \n",
      " 7   Month    509 non-null    int64  \n",
      " 8   Year     509 non-null    int64  \n",
      " 9   Tday     509 non-null    int64  \n",
      "dtypes: float64(2), int64(4), object(4)\n",
      "memory usage: 39.9+ KB\n"
     ]
    }
   ],
   "source": [
    "df.info()"
   ]
  },
  {
   "cell_type": "code",
   "execution_count": null,
   "metadata": {},
   "outputs": [
    {
     "data": {
      "text/html": [
       "<div>\n",
       "<style scoped>\n",
       "    .dataframe tbody tr th:only-of-type {\n",
       "        vertical-align: middle;\n",
       "    }\n",
       "\n",
       "    .dataframe tbody tr th {\n",
       "        vertical-align: top;\n",
       "    }\n",
       "\n",
       "    .dataframe thead th {\n",
       "        text-align: right;\n",
       "    }\n",
       "</style>\n",
       "<table border=\"1\" class=\"dataframe\">\n",
       "  <thead>\n",
       "    <tr style=\"text-align: right;\">\n",
       "      <th></th>\n",
       "      <th>date</th>\n",
       "      <th>DrCr</th>\n",
       "      <th>amount</th>\n",
       "      <th>balance</th>\n",
       "      <th>mode</th>\n",
       "      <th>name</th>\n",
       "      <th>Day</th>\n",
       "      <th>Month</th>\n",
       "      <th>Year</th>\n",
       "      <th>Tday</th>\n",
       "    </tr>\n",
       "  </thead>\n",
       "  <tbody>\n",
       "    <tr>\n",
       "      <th>0</th>\n",
       "      <td>2022-01-01</td>\n",
       "      <td>Db</td>\n",
       "      <td>10000.0</td>\n",
       "      <td>473292.87</td>\n",
       "      <td>ATM</td>\n",
       "      <td>UNKNOWN</td>\n",
       "      <td>1</td>\n",
       "      <td>1</td>\n",
       "      <td>2022</td>\n",
       "      <td>1</td>\n",
       "    </tr>\n",
       "    <tr>\n",
       "      <th>1</th>\n",
       "      <td>2022-01-01</td>\n",
       "      <td>Db</td>\n",
       "      <td>10000.0</td>\n",
       "      <td>463292.87</td>\n",
       "      <td>ATM</td>\n",
       "      <td>UNKNOWN</td>\n",
       "      <td>1</td>\n",
       "      <td>1</td>\n",
       "      <td>2022</td>\n",
       "      <td>1</td>\n",
       "    </tr>\n",
       "    <tr>\n",
       "      <th>2</th>\n",
       "      <td>2022-01-02</td>\n",
       "      <td>Db</td>\n",
       "      <td>930.0</td>\n",
       "      <td>462362.87</td>\n",
       "      <td>UPI</td>\n",
       "      <td>AYUBRAJE</td>\n",
       "      <td>2</td>\n",
       "      <td>1</td>\n",
       "      <td>2022</td>\n",
       "      <td>2</td>\n",
       "    </tr>\n",
       "    <tr>\n",
       "      <th>3</th>\n",
       "      <td>2022-01-07</td>\n",
       "      <td>Db</td>\n",
       "      <td>2000.0</td>\n",
       "      <td>460362.87</td>\n",
       "      <td>UPI</td>\n",
       "      <td>ABUTALAH</td>\n",
       "      <td>7</td>\n",
       "      <td>1</td>\n",
       "      <td>2022</td>\n",
       "      <td>3</td>\n",
       "    </tr>\n",
       "    <tr>\n",
       "      <th>4</th>\n",
       "      <td>2022-01-10</td>\n",
       "      <td>Db</td>\n",
       "      <td>1000.0</td>\n",
       "      <td>459362.87</td>\n",
       "      <td>UPI</td>\n",
       "      <td>AGRAWALB</td>\n",
       "      <td>10</td>\n",
       "      <td>1</td>\n",
       "      <td>2022</td>\n",
       "      <td>4</td>\n",
       "    </tr>\n",
       "  </tbody>\n",
       "</table>\n",
       "</div>"
      ],
      "text/plain": [
       "         date DrCr   amount    balance mode      name  Day  Month  Year  Tday\n",
       "0  2022-01-01   Db  10000.0  473292.87  ATM   UNKNOWN    1      1  2022     1\n",
       "1  2022-01-01   Db  10000.0  463292.87  ATM   UNKNOWN    1      1  2022     1\n",
       "2  2022-01-02   Db    930.0  462362.87  UPI  AYUBRAJE    2      1  2022     2\n",
       "3  2022-01-07   Db   2000.0  460362.87  UPI  ABUTALAH    7      1  2022     3\n",
       "4  2022-01-10   Db   1000.0  459362.87  UPI  AGRAWALB   10      1  2022     4"
      ]
     },
     "execution_count": 71,
     "metadata": {},
     "output_type": "execute_result"
    }
   ],
   "source": [
    "# \n",
    "df.head()"
   ]
  },
  {
   "cell_type": "code",
   "execution_count": 74,
   "metadata": {},
   "outputs": [
    {
     "data": {
      "text/html": [
       "<div>\n",
       "<style scoped>\n",
       "    .dataframe tbody tr th:only-of-type {\n",
       "        vertical-align: middle;\n",
       "    }\n",
       "\n",
       "    .dataframe tbody tr th {\n",
       "        vertical-align: top;\n",
       "    }\n",
       "\n",
       "    .dataframe thead th {\n",
       "        text-align: right;\n",
       "    }\n",
       "</style>\n",
       "<table border=\"1\" class=\"dataframe\">\n",
       "  <thead>\n",
       "    <tr style=\"text-align: right;\">\n",
       "      <th></th>\n",
       "      <th>amount</th>\n",
       "      <th>balance</th>\n",
       "      <th>Day</th>\n",
       "      <th>Month</th>\n",
       "      <th>Year</th>\n",
       "      <th>Tday</th>\n",
       "    </tr>\n",
       "  </thead>\n",
       "  <tbody>\n",
       "    <tr>\n",
       "      <th>count</th>\n",
       "      <td>509.000000</td>\n",
       "      <td>509.000000</td>\n",
       "      <td>509.000000</td>\n",
       "      <td>509.000000</td>\n",
       "      <td>509.000000</td>\n",
       "      <td>509.000000</td>\n",
       "    </tr>\n",
       "    <tr>\n",
       "      <th>mean</th>\n",
       "      <td>8736.453006</td>\n",
       "      <td>115873.671493</td>\n",
       "      <td>13.569745</td>\n",
       "      <td>6.163065</td>\n",
       "      <td>2022.489194</td>\n",
       "      <td>161.850688</td>\n",
       "    </tr>\n",
       "    <tr>\n",
       "      <th>std</th>\n",
       "      <td>27181.105774</td>\n",
       "      <td>136850.421744</td>\n",
       "      <td>9.168241</td>\n",
       "      <td>3.282459</td>\n",
       "      <td>0.500375</td>\n",
       "      <td>92.683683</td>\n",
       "    </tr>\n",
       "    <tr>\n",
       "      <th>min</th>\n",
       "      <td>1.000000</td>\n",
       "      <td>0.130000</td>\n",
       "      <td>1.000000</td>\n",
       "      <td>1.000000</td>\n",
       "      <td>2022.000000</td>\n",
       "      <td>1.000000</td>\n",
       "    </tr>\n",
       "    <tr>\n",
       "      <th>25%</th>\n",
       "      <td>400.000000</td>\n",
       "      <td>35345.130000</td>\n",
       "      <td>5.000000</td>\n",
       "      <td>3.000000</td>\n",
       "      <td>2022.000000</td>\n",
       "      <td>83.000000</td>\n",
       "    </tr>\n",
       "    <tr>\n",
       "      <th>50%</th>\n",
       "      <td>1120.000000</td>\n",
       "      <td>56645.670000</td>\n",
       "      <td>12.000000</td>\n",
       "      <td>6.000000</td>\n",
       "      <td>2022.000000</td>\n",
       "      <td>165.000000</td>\n",
       "    </tr>\n",
       "    <tr>\n",
       "      <th>75%</th>\n",
       "      <td>7000.000000</td>\n",
       "      <td>121341.470000</td>\n",
       "      <td>22.000000</td>\n",
       "      <td>9.000000</td>\n",
       "      <td>2023.000000</td>\n",
       "      <td>243.000000</td>\n",
       "    </tr>\n",
       "    <tr>\n",
       "      <th>max</th>\n",
       "      <td>360000.000000</td>\n",
       "      <td>473292.870000</td>\n",
       "      <td>31.000000</td>\n",
       "      <td>12.000000</td>\n",
       "      <td>2023.000000</td>\n",
       "      <td>313.000000</td>\n",
       "    </tr>\n",
       "  </tbody>\n",
       "</table>\n",
       "</div>"
      ],
      "text/plain": [
       "              amount        balance         Day       Month         Year  \\\n",
       "count     509.000000     509.000000  509.000000  509.000000   509.000000   \n",
       "mean     8736.453006  115873.671493   13.569745    6.163065  2022.489194   \n",
       "std     27181.105774  136850.421744    9.168241    3.282459     0.500375   \n",
       "min         1.000000       0.130000    1.000000    1.000000  2022.000000   \n",
       "25%       400.000000   35345.130000    5.000000    3.000000  2022.000000   \n",
       "50%      1120.000000   56645.670000   12.000000    6.000000  2022.000000   \n",
       "75%      7000.000000  121341.470000   22.000000    9.000000  2023.000000   \n",
       "max    360000.000000  473292.870000   31.000000   12.000000  2023.000000   \n",
       "\n",
       "             Tday  \n",
       "count  509.000000  \n",
       "mean   161.850688  \n",
       "std     92.683683  \n",
       "min      1.000000  \n",
       "25%     83.000000  \n",
       "50%    165.000000  \n",
       "75%    243.000000  \n",
       "max    313.000000  "
      ]
     },
     "execution_count": 74,
     "metadata": {},
     "output_type": "execute_result"
    }
   ],
   "source": [
    "df.describe()"
   ]
  },
  {
   "cell_type": "code",
   "execution_count": 75,
   "metadata": {},
   "outputs": [
    {
     "data": {
      "text/html": [
       "<div>\n",
       "<style scoped>\n",
       "    .dataframe tbody tr th:only-of-type {\n",
       "        vertical-align: middle;\n",
       "    }\n",
       "\n",
       "    .dataframe tbody tr th {\n",
       "        vertical-align: top;\n",
       "    }\n",
       "\n",
       "    .dataframe thead th {\n",
       "        text-align: right;\n",
       "    }\n",
       "</style>\n",
       "<table border=\"1\" class=\"dataframe\">\n",
       "  <thead>\n",
       "    <tr style=\"text-align: right;\">\n",
       "      <th></th>\n",
       "      <th>date</th>\n",
       "      <th>DrCr</th>\n",
       "      <th>amount</th>\n",
       "      <th>balance</th>\n",
       "      <th>mode</th>\n",
       "    </tr>\n",
       "  </thead>\n",
       "  <tbody>\n",
       "    <tr>\n",
       "      <th>0</th>\n",
       "      <td>2022-01-01</td>\n",
       "      <td>Db</td>\n",
       "      <td>10000.0</td>\n",
       "      <td>473292.87</td>\n",
       "      <td>ATM</td>\n",
       "    </tr>\n",
       "    <tr>\n",
       "      <th>1</th>\n",
       "      <td>2022-01-01</td>\n",
       "      <td>Db</td>\n",
       "      <td>10000.0</td>\n",
       "      <td>463292.87</td>\n",
       "      <td>ATM</td>\n",
       "    </tr>\n",
       "    <tr>\n",
       "      <th>2</th>\n",
       "      <td>2022-01-02</td>\n",
       "      <td>Db</td>\n",
       "      <td>930.0</td>\n",
       "      <td>462362.87</td>\n",
       "      <td>UPI</td>\n",
       "    </tr>\n",
       "    <tr>\n",
       "      <th>3</th>\n",
       "      <td>2022-01-07</td>\n",
       "      <td>Db</td>\n",
       "      <td>2000.0</td>\n",
       "      <td>460362.87</td>\n",
       "      <td>UPI</td>\n",
       "    </tr>\n",
       "    <tr>\n",
       "      <th>4</th>\n",
       "      <td>2022-01-10</td>\n",
       "      <td>Db</td>\n",
       "      <td>1000.0</td>\n",
       "      <td>459362.87</td>\n",
       "      <td>UPI</td>\n",
       "    </tr>\n",
       "  </tbody>\n",
       "</table>\n",
       "</div>"
      ],
      "text/plain": [
       "         date DrCr   amount    balance mode\n",
       "0  2022-01-01   Db  10000.0  473292.87  ATM\n",
       "1  2022-01-01   Db  10000.0  463292.87  ATM\n",
       "2  2022-01-02   Db    930.0  462362.87  UPI\n",
       "3  2022-01-07   Db   2000.0  460362.87  UPI\n",
       "4  2022-01-10   Db   1000.0  459362.87  UPI"
      ]
     },
     "execution_count": 75,
     "metadata": {},
     "output_type": "execute_result"
    }
   ],
   "source": [
    "df.iloc[0:5, 0:5]"
   ]
  },
  {
   "cell_type": "code",
   "execution_count": 79,
   "metadata": {},
   "outputs": [
    {
     "data": {
      "text/plain": [
       "date         0\n",
       "DrCr         0\n",
       "amount       0\n",
       "balance      0\n",
       "mode         0\n",
       "name       139\n",
       "Day          0\n",
       "Month        0\n",
       "Year         0\n",
       "Tday         0\n",
       "dtype: int64"
      ]
     },
     "execution_count": 79,
     "metadata": {},
     "output_type": "execute_result"
    }
   ],
   "source": [
    "# Check for missing values\n",
    "df.isnull().sum()"
   ]
  },
  {
   "cell_type": "code",
   "execution_count": 80,
   "metadata": {},
   "outputs": [
    {
     "name": "stderr",
     "output_type": "stream",
     "text": [
      "C:\\Users\\Work\\AppData\\Local\\Temp\\ipykernel_27652\\3421796518.py:2: FutureWarning: A value is trying to be set on a copy of a DataFrame or Series through chained assignment using an inplace method.\n",
      "The behavior will change in pandas 3.0. This inplace method will never work because the intermediate object on which we are setting values always behaves as a copy.\n",
      "\n",
      "For example, when doing 'df[col].method(value, inplace=True)', try using 'df.method({col: value}, inplace=True)' or df[col] = df[col].method(value) instead, to perform the operation inplace on the original object.\n",
      "\n",
      "\n",
      "  df['name'].fillna('UNKNOWN', inplace=True)\n"
     ]
    }
   ],
   "source": [
    "# fill missing names with \"UNKNOWN\"\n",
    "df['name'].fillna('UNKNOWN', inplace=True)"
   ]
  },
  {
   "cell_type": "code",
   "execution_count": null,
   "metadata": {},
   "outputs": [
    {
     "data": {
      "text/plain": [
       "date       0\n",
       "DrCr       0\n",
       "amount     0\n",
       "balance    0\n",
       "mode       0\n",
       "name       0\n",
       "Day        0\n",
       "Month      0\n",
       "Year       0\n",
       "Tday       0\n",
       "dtype: int64"
      ]
     },
     "execution_count": 82,
     "metadata": {},
     "output_type": "execute_result"
    }
   ],
   "source": [
    "# Check for missing values again\n",
    "df.isnull().sum()"
   ]
  },
  {
   "cell_type": "code",
   "execution_count": 86,
   "metadata": {},
   "outputs": [
    {
     "name": "stdout",
     "output_type": "stream",
     "text": [
      "<class 'pandas.core.frame.DataFrame'>\n",
      "RangeIndex: 509 entries, 0 to 508\n",
      "Data columns (total 10 columns):\n",
      " #   Column   Non-Null Count  Dtype  \n",
      "---  ------   --------------  -----  \n",
      " 0   date     509 non-null    object \n",
      " 1   DrCr     509 non-null    object \n",
      " 2   amount   509 non-null    float64\n",
      " 3   balance  509 non-null    float64\n",
      " 4   mode     509 non-null    object \n",
      " 5   name     509 non-null    object \n",
      " 6   Day      509 non-null    int64  \n",
      " 7   Month    509 non-null    int64  \n",
      " 8   Year     509 non-null    int64  \n",
      " 9   Tday     509 non-null    int64  \n",
      "dtypes: float64(2), int64(4), object(4)\n",
      "memory usage: 39.9+ KB\n"
     ]
    }
   ],
   "source": [
    "# Convert 'amount' column to float\n",
    "df['amount'] = df['amount'].astype(float)\n",
    "df.info()"
   ]
  },
  {
   "cell_type": "code",
   "execution_count": 87,
   "metadata": {},
   "outputs": [
    {
     "data": {
      "text/html": [
       "<div>\n",
       "<style scoped>\n",
       "    .dataframe tbody tr th:only-of-type {\n",
       "        vertical-align: middle;\n",
       "    }\n",
       "\n",
       "    .dataframe tbody tr th {\n",
       "        vertical-align: top;\n",
       "    }\n",
       "\n",
       "    .dataframe thead th {\n",
       "        text-align: right;\n",
       "    }\n",
       "</style>\n",
       "<table border=\"1\" class=\"dataframe\">\n",
       "  <thead>\n",
       "    <tr style=\"text-align: right;\">\n",
       "      <th></th>\n",
       "      <th>date</th>\n",
       "      <th>DrCr</th>\n",
       "      <th>amount</th>\n",
       "      <th>balance</th>\n",
       "      <th>mode</th>\n",
       "      <th>name</th>\n",
       "      <th>Day</th>\n",
       "      <th>Month</th>\n",
       "      <th>Year</th>\n",
       "      <th>Tday</th>\n",
       "    </tr>\n",
       "  </thead>\n",
       "  <tbody>\n",
       "    <tr>\n",
       "      <th>0</th>\n",
       "      <td>2022-01-01</td>\n",
       "      <td>Db</td>\n",
       "      <td>10000.0</td>\n",
       "      <td>473292.87</td>\n",
       "      <td>ATM</td>\n",
       "      <td>UNKNOWN</td>\n",
       "      <td>1</td>\n",
       "      <td>1</td>\n",
       "      <td>2022</td>\n",
       "      <td>1</td>\n",
       "    </tr>\n",
       "    <tr>\n",
       "      <th>1</th>\n",
       "      <td>2022-01-01</td>\n",
       "      <td>Db</td>\n",
       "      <td>10000.0</td>\n",
       "      <td>463292.87</td>\n",
       "      <td>ATM</td>\n",
       "      <td>UNKNOWN</td>\n",
       "      <td>1</td>\n",
       "      <td>1</td>\n",
       "      <td>2022</td>\n",
       "      <td>1</td>\n",
       "    </tr>\n",
       "    <tr>\n",
       "      <th>2</th>\n",
       "      <td>2022-01-02</td>\n",
       "      <td>Db</td>\n",
       "      <td>930.0</td>\n",
       "      <td>462362.87</td>\n",
       "      <td>UPI</td>\n",
       "      <td>AYUBRAJE</td>\n",
       "      <td>2</td>\n",
       "      <td>1</td>\n",
       "      <td>2022</td>\n",
       "      <td>2</td>\n",
       "    </tr>\n",
       "    <tr>\n",
       "      <th>3</th>\n",
       "      <td>2022-01-07</td>\n",
       "      <td>Db</td>\n",
       "      <td>2000.0</td>\n",
       "      <td>460362.87</td>\n",
       "      <td>UPI</td>\n",
       "      <td>ABUTALAH</td>\n",
       "      <td>7</td>\n",
       "      <td>1</td>\n",
       "      <td>2022</td>\n",
       "      <td>3</td>\n",
       "    </tr>\n",
       "    <tr>\n",
       "      <th>4</th>\n",
       "      <td>2022-01-10</td>\n",
       "      <td>Db</td>\n",
       "      <td>1000.0</td>\n",
       "      <td>459362.87</td>\n",
       "      <td>UPI</td>\n",
       "      <td>AGRAWALB</td>\n",
       "      <td>10</td>\n",
       "      <td>1</td>\n",
       "      <td>2022</td>\n",
       "      <td>4</td>\n",
       "    </tr>\n",
       "  </tbody>\n",
       "</table>\n",
       "</div>"
      ],
      "text/plain": [
       "         date DrCr   amount    balance mode      name  Day  Month  Year  Tday\n",
       "0  2022-01-01   Db  10000.0  473292.87  ATM   UNKNOWN    1      1  2022     1\n",
       "1  2022-01-01   Db  10000.0  463292.87  ATM   UNKNOWN    1      1  2022     1\n",
       "2  2022-01-02   Db    930.0  462362.87  UPI  AYUBRAJE    2      1  2022     2\n",
       "3  2022-01-07   Db   2000.0  460362.87  UPI  ABUTALAH    7      1  2022     3\n",
       "4  2022-01-10   Db   1000.0  459362.87  UPI  AGRAWALB   10      1  2022     4"
      ]
     },
     "execution_count": 87,
     "metadata": {},
     "output_type": "execute_result"
    }
   ],
   "source": [
    "df.head()"
   ]
  },
  {
   "cell_type": "code",
   "execution_count": null,
   "metadata": {},
   "outputs": [],
   "source": [
    "# standardizing the text in the 'name' column\n",
    "df['name'] = df['name'].str.lower()\n",
    "\n",
    "# remove whitespace\n",
    "df['name'] = df['name'].str.strip()"
   ]
  },
  {
   "cell_type": "code",
   "execution_count": 89,
   "metadata": {},
   "outputs": [
    {
     "data": {
      "text/html": [
       "<div>\n",
       "<style scoped>\n",
       "    .dataframe tbody tr th:only-of-type {\n",
       "        vertical-align: middle;\n",
       "    }\n",
       "\n",
       "    .dataframe tbody tr th {\n",
       "        vertical-align: top;\n",
       "    }\n",
       "\n",
       "    .dataframe thead th {\n",
       "        text-align: right;\n",
       "    }\n",
       "</style>\n",
       "<table border=\"1\" class=\"dataframe\">\n",
       "  <thead>\n",
       "    <tr style=\"text-align: right;\">\n",
       "      <th></th>\n",
       "      <th>date</th>\n",
       "      <th>DrCr</th>\n",
       "      <th>amount</th>\n",
       "      <th>balance</th>\n",
       "      <th>mode</th>\n",
       "      <th>name</th>\n",
       "      <th>Day</th>\n",
       "      <th>Month</th>\n",
       "      <th>Year</th>\n",
       "      <th>Tday</th>\n",
       "    </tr>\n",
       "  </thead>\n",
       "  <tbody>\n",
       "    <tr>\n",
       "      <th>0</th>\n",
       "      <td>2022-01-01</td>\n",
       "      <td>Db</td>\n",
       "      <td>10000.0</td>\n",
       "      <td>473292.87</td>\n",
       "      <td>ATM</td>\n",
       "      <td>unknown</td>\n",
       "      <td>1</td>\n",
       "      <td>1</td>\n",
       "      <td>2022</td>\n",
       "      <td>1</td>\n",
       "    </tr>\n",
       "    <tr>\n",
       "      <th>1</th>\n",
       "      <td>2022-01-01</td>\n",
       "      <td>Db</td>\n",
       "      <td>10000.0</td>\n",
       "      <td>463292.87</td>\n",
       "      <td>ATM</td>\n",
       "      <td>unknown</td>\n",
       "      <td>1</td>\n",
       "      <td>1</td>\n",
       "      <td>2022</td>\n",
       "      <td>1</td>\n",
       "    </tr>\n",
       "    <tr>\n",
       "      <th>2</th>\n",
       "      <td>2022-01-02</td>\n",
       "      <td>Db</td>\n",
       "      <td>930.0</td>\n",
       "      <td>462362.87</td>\n",
       "      <td>UPI</td>\n",
       "      <td>ayubraje</td>\n",
       "      <td>2</td>\n",
       "      <td>1</td>\n",
       "      <td>2022</td>\n",
       "      <td>2</td>\n",
       "    </tr>\n",
       "    <tr>\n",
       "      <th>3</th>\n",
       "      <td>2022-01-07</td>\n",
       "      <td>Db</td>\n",
       "      <td>2000.0</td>\n",
       "      <td>460362.87</td>\n",
       "      <td>UPI</td>\n",
       "      <td>abutalah</td>\n",
       "      <td>7</td>\n",
       "      <td>1</td>\n",
       "      <td>2022</td>\n",
       "      <td>3</td>\n",
       "    </tr>\n",
       "    <tr>\n",
       "      <th>4</th>\n",
       "      <td>2022-01-10</td>\n",
       "      <td>Db</td>\n",
       "      <td>1000.0</td>\n",
       "      <td>459362.87</td>\n",
       "      <td>UPI</td>\n",
       "      <td>agrawalb</td>\n",
       "      <td>10</td>\n",
       "      <td>1</td>\n",
       "      <td>2022</td>\n",
       "      <td>4</td>\n",
       "    </tr>\n",
       "  </tbody>\n",
       "</table>\n",
       "</div>"
      ],
      "text/plain": [
       "         date DrCr   amount    balance mode      name  Day  Month  Year  Tday\n",
       "0  2022-01-01   Db  10000.0  473292.87  ATM   unknown    1      1  2022     1\n",
       "1  2022-01-01   Db  10000.0  463292.87  ATM   unknown    1      1  2022     1\n",
       "2  2022-01-02   Db    930.0  462362.87  UPI  ayubraje    2      1  2022     2\n",
       "3  2022-01-07   Db   2000.0  460362.87  UPI  abutalah    7      1  2022     3\n",
       "4  2022-01-10   Db   1000.0  459362.87  UPI  agrawalb   10      1  2022     4"
      ]
     },
     "execution_count": 89,
     "metadata": {},
     "output_type": "execute_result"
    }
   ],
   "source": [
    "df.head()"
   ]
  },
  {
   "cell_type": "code",
   "execution_count": 90,
   "metadata": {},
   "outputs": [],
   "source": [
    "# standardizing the text in the mode column\n",
    "df['mode'] = df['mode'].str.lower()"
   ]
  },
  {
   "cell_type": "code",
   "execution_count": 91,
   "metadata": {},
   "outputs": [
    {
     "data": {
      "text/html": [
       "<div>\n",
       "<style scoped>\n",
       "    .dataframe tbody tr th:only-of-type {\n",
       "        vertical-align: middle;\n",
       "    }\n",
       "\n",
       "    .dataframe tbody tr th {\n",
       "        vertical-align: top;\n",
       "    }\n",
       "\n",
       "    .dataframe thead th {\n",
       "        text-align: right;\n",
       "    }\n",
       "</style>\n",
       "<table border=\"1\" class=\"dataframe\">\n",
       "  <thead>\n",
       "    <tr style=\"text-align: right;\">\n",
       "      <th></th>\n",
       "      <th>date</th>\n",
       "      <th>DrCr</th>\n",
       "      <th>amount</th>\n",
       "      <th>balance</th>\n",
       "      <th>mode</th>\n",
       "      <th>name</th>\n",
       "      <th>Day</th>\n",
       "      <th>Month</th>\n",
       "      <th>Year</th>\n",
       "      <th>Tday</th>\n",
       "    </tr>\n",
       "  </thead>\n",
       "  <tbody>\n",
       "    <tr>\n",
       "      <th>0</th>\n",
       "      <td>2022-01-01</td>\n",
       "      <td>Db</td>\n",
       "      <td>10000.0</td>\n",
       "      <td>473292.87</td>\n",
       "      <td>atm</td>\n",
       "      <td>unknown</td>\n",
       "      <td>1</td>\n",
       "      <td>1</td>\n",
       "      <td>2022</td>\n",
       "      <td>1</td>\n",
       "    </tr>\n",
       "    <tr>\n",
       "      <th>1</th>\n",
       "      <td>2022-01-01</td>\n",
       "      <td>Db</td>\n",
       "      <td>10000.0</td>\n",
       "      <td>463292.87</td>\n",
       "      <td>atm</td>\n",
       "      <td>unknown</td>\n",
       "      <td>1</td>\n",
       "      <td>1</td>\n",
       "      <td>2022</td>\n",
       "      <td>1</td>\n",
       "    </tr>\n",
       "    <tr>\n",
       "      <th>2</th>\n",
       "      <td>2022-01-02</td>\n",
       "      <td>Db</td>\n",
       "      <td>930.0</td>\n",
       "      <td>462362.87</td>\n",
       "      <td>upi</td>\n",
       "      <td>ayubraje</td>\n",
       "      <td>2</td>\n",
       "      <td>1</td>\n",
       "      <td>2022</td>\n",
       "      <td>2</td>\n",
       "    </tr>\n",
       "    <tr>\n",
       "      <th>3</th>\n",
       "      <td>2022-01-07</td>\n",
       "      <td>Db</td>\n",
       "      <td>2000.0</td>\n",
       "      <td>460362.87</td>\n",
       "      <td>upi</td>\n",
       "      <td>abutalah</td>\n",
       "      <td>7</td>\n",
       "      <td>1</td>\n",
       "      <td>2022</td>\n",
       "      <td>3</td>\n",
       "    </tr>\n",
       "    <tr>\n",
       "      <th>4</th>\n",
       "      <td>2022-01-10</td>\n",
       "      <td>Db</td>\n",
       "      <td>1000.0</td>\n",
       "      <td>459362.87</td>\n",
       "      <td>upi</td>\n",
       "      <td>agrawalb</td>\n",
       "      <td>10</td>\n",
       "      <td>1</td>\n",
       "      <td>2022</td>\n",
       "      <td>4</td>\n",
       "    </tr>\n",
       "  </tbody>\n",
       "</table>\n",
       "</div>"
      ],
      "text/plain": [
       "         date DrCr   amount    balance mode      name  Day  Month  Year  Tday\n",
       "0  2022-01-01   Db  10000.0  473292.87  atm   unknown    1      1  2022     1\n",
       "1  2022-01-01   Db  10000.0  463292.87  atm   unknown    1      1  2022     1\n",
       "2  2022-01-02   Db    930.0  462362.87  upi  ayubraje    2      1  2022     2\n",
       "3  2022-01-07   Db   2000.0  460362.87  upi  abutalah    7      1  2022     3\n",
       "4  2022-01-10   Db   1000.0  459362.87  upi  agrawalb   10      1  2022     4"
      ]
     },
     "execution_count": 91,
     "metadata": {},
     "output_type": "execute_result"
    }
   ],
   "source": [
    "df.head()"
   ]
  },
  {
   "cell_type": "code",
   "execution_count": 92,
   "metadata": {},
   "outputs": [],
   "source": [
    "# standardizing the text in the DrCr column\n",
    "df['DrCr'] = df['DrCr'].str.lower()"
   ]
  },
  {
   "cell_type": "code",
   "execution_count": 93,
   "metadata": {},
   "outputs": [
    {
     "data": {
      "text/html": [
       "<div>\n",
       "<style scoped>\n",
       "    .dataframe tbody tr th:only-of-type {\n",
       "        vertical-align: middle;\n",
       "    }\n",
       "\n",
       "    .dataframe tbody tr th {\n",
       "        vertical-align: top;\n",
       "    }\n",
       "\n",
       "    .dataframe thead th {\n",
       "        text-align: right;\n",
       "    }\n",
       "</style>\n",
       "<table border=\"1\" class=\"dataframe\">\n",
       "  <thead>\n",
       "    <tr style=\"text-align: right;\">\n",
       "      <th></th>\n",
       "      <th>date</th>\n",
       "      <th>DrCr</th>\n",
       "      <th>amount</th>\n",
       "      <th>balance</th>\n",
       "      <th>mode</th>\n",
       "      <th>name</th>\n",
       "      <th>Day</th>\n",
       "      <th>Month</th>\n",
       "      <th>Year</th>\n",
       "      <th>Tday</th>\n",
       "    </tr>\n",
       "  </thead>\n",
       "  <tbody>\n",
       "    <tr>\n",
       "      <th>0</th>\n",
       "      <td>2022-01-01</td>\n",
       "      <td>db</td>\n",
       "      <td>10000.0</td>\n",
       "      <td>473292.87</td>\n",
       "      <td>atm</td>\n",
       "      <td>unknown</td>\n",
       "      <td>1</td>\n",
       "      <td>1</td>\n",
       "      <td>2022</td>\n",
       "      <td>1</td>\n",
       "    </tr>\n",
       "    <tr>\n",
       "      <th>1</th>\n",
       "      <td>2022-01-01</td>\n",
       "      <td>db</td>\n",
       "      <td>10000.0</td>\n",
       "      <td>463292.87</td>\n",
       "      <td>atm</td>\n",
       "      <td>unknown</td>\n",
       "      <td>1</td>\n",
       "      <td>1</td>\n",
       "      <td>2022</td>\n",
       "      <td>1</td>\n",
       "    </tr>\n",
       "    <tr>\n",
       "      <th>2</th>\n",
       "      <td>2022-01-02</td>\n",
       "      <td>db</td>\n",
       "      <td>930.0</td>\n",
       "      <td>462362.87</td>\n",
       "      <td>upi</td>\n",
       "      <td>ayubraje</td>\n",
       "      <td>2</td>\n",
       "      <td>1</td>\n",
       "      <td>2022</td>\n",
       "      <td>2</td>\n",
       "    </tr>\n",
       "    <tr>\n",
       "      <th>3</th>\n",
       "      <td>2022-01-07</td>\n",
       "      <td>db</td>\n",
       "      <td>2000.0</td>\n",
       "      <td>460362.87</td>\n",
       "      <td>upi</td>\n",
       "      <td>abutalah</td>\n",
       "      <td>7</td>\n",
       "      <td>1</td>\n",
       "      <td>2022</td>\n",
       "      <td>3</td>\n",
       "    </tr>\n",
       "    <tr>\n",
       "      <th>4</th>\n",
       "      <td>2022-01-10</td>\n",
       "      <td>db</td>\n",
       "      <td>1000.0</td>\n",
       "      <td>459362.87</td>\n",
       "      <td>upi</td>\n",
       "      <td>agrawalb</td>\n",
       "      <td>10</td>\n",
       "      <td>1</td>\n",
       "      <td>2022</td>\n",
       "      <td>4</td>\n",
       "    </tr>\n",
       "  </tbody>\n",
       "</table>\n",
       "</div>"
      ],
      "text/plain": [
       "         date DrCr   amount    balance mode      name  Day  Month  Year  Tday\n",
       "0  2022-01-01   db  10000.0  473292.87  atm   unknown    1      1  2022     1\n",
       "1  2022-01-01   db  10000.0  463292.87  atm   unknown    1      1  2022     1\n",
       "2  2022-01-02   db    930.0  462362.87  upi  ayubraje    2      1  2022     2\n",
       "3  2022-01-07   db   2000.0  460362.87  upi  abutalah    7      1  2022     3\n",
       "4  2022-01-10   db   1000.0  459362.87  upi  agrawalb   10      1  2022     4"
      ]
     },
     "execution_count": 93,
     "metadata": {},
     "output_type": "execute_result"
    }
   ],
   "source": [
    "df.head()"
   ]
  },
  {
   "cell_type": "code",
   "execution_count": 115,
   "metadata": {},
   "outputs": [
    {
     "data": {
      "text/html": [
       "<div>\n",
       "<style scoped>\n",
       "    .dataframe tbody tr th:only-of-type {\n",
       "        vertical-align: middle;\n",
       "    }\n",
       "\n",
       "    .dataframe tbody tr th {\n",
       "        vertical-align: top;\n",
       "    }\n",
       "\n",
       "    .dataframe thead th {\n",
       "        text-align: right;\n",
       "    }\n",
       "</style>\n",
       "<table border=\"1\" class=\"dataframe\">\n",
       "  <thead>\n",
       "    <tr style=\"text-align: right;\">\n",
       "      <th></th>\n",
       "      <th>date</th>\n",
       "      <th>DrCr</th>\n",
       "      <th>amount</th>\n",
       "      <th>balance</th>\n",
       "      <th>mode</th>\n",
       "      <th>name</th>\n",
       "      <th>Day</th>\n",
       "      <th>Month</th>\n",
       "      <th>Year</th>\n",
       "      <th>Tday</th>\n",
       "    </tr>\n",
       "  </thead>\n",
       "  <tbody>\n",
       "    <tr>\n",
       "      <th>243</th>\n",
       "      <td>2022-12-13</td>\n",
       "      <td>db</td>\n",
       "      <td>2999.0</td>\n",
       "      <td>89827.95</td>\n",
       "      <td>upi</td>\n",
       "      <td>huchchapp</td>\n",
       "      <td>13</td>\n",
       "      <td>12</td>\n",
       "      <td>2022</td>\n",
       "      <td>160</td>\n",
       "    </tr>\n",
       "    <tr>\n",
       "      <th>83</th>\n",
       "      <td>2022-05-04</td>\n",
       "      <td>cr</td>\n",
       "      <td>11500.0</td>\n",
       "      <td>112329.96</td>\n",
       "      <td>upi</td>\n",
       "      <td>nafeesab</td>\n",
       "      <td>4</td>\n",
       "      <td>5</td>\n",
       "      <td>2022</td>\n",
       "      <td>55</td>\n",
       "    </tr>\n",
       "    <tr>\n",
       "      <th>314</th>\n",
       "      <td>2023-02-28</td>\n",
       "      <td>cr</td>\n",
       "      <td>28386.0</td>\n",
       "      <td>28386.13</td>\n",
       "      <td>neft</td>\n",
       "      <td>unknown</td>\n",
       "      <td>28</td>\n",
       "      <td>2</td>\n",
       "      <td>2023</td>\n",
       "      <td>199</td>\n",
       "    </tr>\n",
       "    <tr>\n",
       "      <th>30</th>\n",
       "      <td>2022-02-11</td>\n",
       "      <td>db</td>\n",
       "      <td>2000.0</td>\n",
       "      <td>459487.96</td>\n",
       "      <td>upi</td>\n",
       "      <td>abutalah</td>\n",
       "      <td>11</td>\n",
       "      <td>2</td>\n",
       "      <td>2022</td>\n",
       "      <td>16</td>\n",
       "    </tr>\n",
       "    <tr>\n",
       "      <th>231</th>\n",
       "      <td>2022-12-01</td>\n",
       "      <td>cr</td>\n",
       "      <td>41299.0</td>\n",
       "      <td>111638.75</td>\n",
       "      <td>neft</td>\n",
       "      <td>unknown</td>\n",
       "      <td>1</td>\n",
       "      <td>12</td>\n",
       "      <td>2022</td>\n",
       "      <td>154</td>\n",
       "    </tr>\n",
       "  </tbody>\n",
       "</table>\n",
       "</div>"
      ],
      "text/plain": [
       "           date DrCr   amount    balance  mode       name  Day  Month  Year  \\\n",
       "243  2022-12-13   db   2999.0   89827.95   upi  huchchapp   13     12  2022   \n",
       "83   2022-05-04   cr  11500.0  112329.96   upi   nafeesab    4      5  2022   \n",
       "314  2023-02-28   cr  28386.0   28386.13  neft    unknown   28      2  2023   \n",
       "30   2022-02-11   db   2000.0  459487.96   upi   abutalah   11      2  2022   \n",
       "231  2022-12-01   cr  41299.0  111638.75  neft    unknown    1     12  2022   \n",
       "\n",
       "     Tday  \n",
       "243   160  \n",
       "83     55  \n",
       "314   199  \n",
       "30     16  \n",
       "231   154  "
      ]
     },
     "execution_count": 115,
     "metadata": {},
     "output_type": "execute_result"
    }
   ],
   "source": [
    "df.sample(5)"
   ]
  },
  {
   "cell_type": "code",
   "execution_count": null,
   "metadata": {},
   "outputs": [
    {
     "data": {
      "image/png": "[encoded data removed]",
      "text/plain": [
       "<Figure size 640x480 with 1 Axes>"
      ]
     },
     "metadata": {},
     "output_type": "display_data"
    }
   ],
   "source": [
    "# Visualizing the distribution of transaction amounts by type\n",
    "\n",
    "import seaborn as sns; \n",
    "sns.boxplot(data=df, x='DrCr', y='amount')\n",
    "plt.title('Transaction Amount Distribution by Type')\n",
    "plt.ylim(0, df['amount'].quantile(0.95)) \n",
    "plt.show()\n"
   ]
  },
  {
   "cell_type": "code",
   "execution_count": 124,
   "metadata": {},
   "outputs": [
    {
     "name": "stdout",
     "output_type": "stream",
     "text": [
      "name\n",
      "unknown      139\n",
      "abutalah      80\n",
      "phonepe       35\n",
      "nafeesab      33\n",
      "sangalli      19\n",
      "hdfcbank      18\n",
      "flipkart      16\n",
      "dadakhala     14\n",
      "ayubraje      13\n",
      "budesaheb     12\n",
      "Name: count, dtype: int64\n"
     ]
    }
   ],
   "source": [
    "# Get frequency of unique 'name' values\n",
    "name_counts = df['name'].value_counts()\n",
    "print(name_counts.head(10))  # Top 10 for quick view"
   ]
  },
  {
   "cell_type": "code",
   "execution_count": 129,
   "metadata": {},
   "outputs": [
    {
     "name": "stdout",
     "output_type": "stream",
     "text": [
      "category\n",
      "Other         269\n",
      "Personal       80\n",
      "Wives          68\n",
      "Parents        37\n",
      "Boyfriends     30\n",
      "Children       25\n",
      "Name: count, dtype: int64\n"
     ]
    }
   ],
   "source": [
    "# # function for categorizing by name\n",
    "# def categorize_by_name(name):\n",
    "#     if 'abutalah' in name:\n",
    "#         return 'Personal'\n",
    "#     elif 'phonepe' in name or 'nafeesab' in name:\n",
    "#         return 'Wives'\n",
    "#     elif 'sangalli' in name or 'hdfcbank' in name:\n",
    "#         return 'Parents'\n",
    "#     elif 'flipkart' in name or 'dadakhala' in name:\n",
    "#         return 'Boyfriends'\n",
    "#     elif 'ayubraje' in name or 'budesaheb' in name:\n",
    "#         return 'Children'\n",
    "#     else:\n",
    "#         return 'Other'\n",
    "    \n",
    "# # Apply categorization\n",
    "# df['category'] = df['name'].apply(categorize_by_name)\n",
    "\n",
    "# # check the distribution of categories\n",
    "# category_counts = df['category'].value_counts()\n",
    "# print(category_counts)\n",
    "\n",
    "import numpy as np\n",
    "# Function to categorize transactions by names using numpy\n",
    "\n",
    "conditons = [\n",
    "    df['name'].str.contains('abutalah', case=False, na=False),\n",
    "    df['name'].str.contains('phonepe|nafeesab', case=False, na=False),\n",
    "    df['name'].str.contains('sangalli|hdfcbank', case=False, na=False),\n",
    "    df['name'].str.contains('flipkart|dadakhala', case=False, na=False),\n",
    "    df['name'].str.contains('ayubraje|budesaheb', case=False, na=False)\n",
    "]\n",
    "\n",
    "choices = np.array(['Personal', 'Wives', 'Parents', 'Boyfriends', 'Children', 'Other'])\n",
    "\n",
    "# Apply categorization using numpy\n",
    "df['category'] = np.select(conditons, choices[:-1], default=choices[-1])\n",
    "\n",
    "# check the distribution of categories\n",
    "category_counts = df['category'].value_counts()\n",
    "print(category_counts)"
   ]
  },
  {
   "cell_type": "code",
   "execution_count": 131,
   "metadata": {},
   "outputs": [
    {
     "data": {
      "text/plain": [
       "np.int64(80)"
      ]
     },
     "execution_count": 131,
     "metadata": {},
     "output_type": "execute_result"
    }
   ],
   "source": [
    "# regex for abutalah\n",
    "df['name'].str.contains(r'\\babutalah\\b', case=False, na=False).sum()"
   ]
  },
  {
   "cell_type": "code",
   "execution_count": 137,
   "metadata": {},
   "outputs": [
    {
     "data": {
      "text/plain": [
       "category\n",
       "Boyfriends     180288.00\n",
       "Children        54725.00\n",
       "Other         3196977.58\n",
       "Parents        510886.00\n",
       "Personal       238060.00\n",
       "Wives          265918.00\n",
       "Name: amount, dtype: float64"
      ]
     },
     "execution_count": 137,
     "metadata": {},
     "output_type": "execute_result"
    }
   ],
   "source": [
    "# use groupby to get total amount per category\n",
    "df.groupby('category')['amount'].sum()  # Total per category"
   ]
  },
  {
   "cell_type": "code",
   "execution_count": 139,
   "metadata": {},
   "outputs": [
    {
     "data": {
      "image/png": "[encoded data removed]",
      "text/plain": [
       "<Figure size 640x480 with 1 Axes>"
      ]
     },
     "metadata": {},
     "output_type": "display_data"
    }
   ],
   "source": [
    "# make boxplot for amount by category\n",
    "sns.boxplot(data=df, x='category', y='amount')\n",
    "plt.title('Transaction Amount Distribution by Category')\n",
    "plt.xticks(rotation=45)\n",
    "plt.show()"
   ]
  },
  {
   "cell_type": "code",
   "execution_count": 142,
   "metadata": {},
   "outputs": [
    {
     "data": {
      "image/png": "[encoded data removed]",
      "text/plain": [
       "<Figure size 640x480 with 1 Axes>"
      ]
     },
     "metadata": {},
     "output_type": "display_data"
    }
   ],
   "source": [
    "# make boxplot for amount by category excluding Other category\n",
    "df_filtered = df[df['category'] != 'Other']\n",
    "sns.boxplot(data=df_filtered, x='category', y='amount')\n",
    "plt.title('Transaction Amount Distribution by Category (Excluding Other)')\n",
    "plt.xticks(rotation=45)\n",
    "plt.show()"
   ]
  },
  {
   "cell_type": "code",
   "execution_count": 146,
   "metadata": {},
   "outputs": [
    {
     "data": {
      "image/png": "[encoded data removed]",
      "text/plain": [
       "<Figure size 640x480 with 1 Axes>"
      ]
     },
     "metadata": {},
     "output_type": "display_data"
    }
   ],
   "source": [
    "# make bar chart for total amount by category exluding Other category\n",
    "df_filtered = df[df['category'] != 'Other']\n",
    "sns.barplot(data=df_filtered, x='category', y='amount', estimator=np.sum)\n",
    "plt.title('Total Transaction Amount by Category (Excluding Other)')\n",
    "plt.xticks(rotation=45)\n",
    "plt.show()"
   ]
  },
  {
   "cell_type": "code",
   "execution_count": 147,
   "metadata": {},
   "outputs": [
    {
     "data": {
      "image/png": "[encoded data removed]",
      "text/plain": [
       "<Figure size 640x480 with 1 Axes>"
      ]
     },
     "metadata": {},
     "output_type": "display_data"
    }
   ],
   "source": [
    "# line chart for total amount by category excluding Other category\n",
    "df_filtered = df[df['category'] != 'Other']\n",
    "sns.lineplot(data=df_filtered.groupby('category')['amount'].sum().reset_index(), x='category', y='amount')\n",
    "plt.title('Total Transaction Amount by Category (Excluding Other)')\n",
    "plt.xticks(rotation=45)\n",
    "plt.show()"
   ]
  }
 ],
 "metadata": {
  "kernelspec": {
   "display_name": "Python (finance-analyzer-venv)",
   "language": "python",
   "name": "finance-analyzer-venv"
  },
  "language_info": {
   "codemirror_mode": {
    "name": "ipython",
    "version": 3
   },
   "file_extension": ".py",
   "mimetype": "text/x-python",
   "name": "python",
   "nbconvert_exporter": "python",
   "pygments_lexer": "ipython3",
   "version": "3.10.4"
  }
 },
 "nbformat": 4,
 "nbformat_minor": 4
}
